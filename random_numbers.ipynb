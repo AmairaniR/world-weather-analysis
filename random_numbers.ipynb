{
 "cells": [
  {
   "cell_type": "code",
   "execution_count": 1,
   "id": "1419257a",
   "metadata": {},
   "outputs": [],
   "source": [
    "import random"
   ]
  },
  {
   "cell_type": "code",
   "execution_count": 2,
   "id": "6fb89464",
   "metadata": {},
   "outputs": [
    {
     "data": {
      "text/plain": [
       "2"
      ]
     },
     "execution_count": 2,
     "metadata": {},
     "output_type": "execute_result"
    }
   ],
   "source": [
    "random.randint(-90, 90)"
   ]
  },
  {
   "cell_type": "code",
   "execution_count": 3,
   "id": "2364651d",
   "metadata": {},
   "outputs": [
    {
     "data": {
      "text/plain": [
       "0.043919240620953204"
      ]
     },
     "execution_count": 3,
     "metadata": {},
     "output_type": "execute_result"
    }
   ],
   "source": [
    "random.random()"
   ]
  },
  {
   "cell_type": "code",
   "execution_count": 4,
   "id": "8a42b4e1",
   "metadata": {},
   "outputs": [
    {
     "data": {
      "text/plain": [
       "17"
      ]
     },
     "execution_count": 4,
     "metadata": {},
     "output_type": "execute_result"
    }
   ],
   "source": [
    "random.randrange(-90, 90, 1)"
   ]
  },
  {
   "cell_type": "code",
   "execution_count": 5,
   "id": "c30622e0",
   "metadata": {},
   "outputs": [
    {
     "data": {
      "text/plain": [
       "-3.154302274648046"
      ]
     },
     "execution_count": 5,
     "metadata": {},
     "output_type": "execute_result"
    }
   ],
   "source": [
    "random.uniform(-90, 90)"
   ]
  },
  {
   "cell_type": "code",
   "execution_count": 6,
   "id": "456c227f",
   "metadata": {},
   "outputs": [],
   "source": [
    "import numpy as np"
   ]
  },
  {
   "cell_type": "code",
   "execution_count": 7,
   "id": "61458ee0",
   "metadata": {},
   "outputs": [
    {
     "data": {
      "text/plain": [
       "array([-54.55504839, -47.80824507, -82.08900819, -14.35388678,\n",
       "       -40.65517861, -34.53622436, -46.12388023,  44.84201976,\n",
       "        34.93986038,  33.9899791 ,  76.17532284,  66.4890746 ,\n",
       "        47.90795195,  -1.8234961 , -35.77921434, -66.91734942,\n",
       "        30.62573374,  45.18902246, -47.00427851,  63.63713163,\n",
       "        18.65803742,  35.80933707, -61.90369696, -65.21752048,\n",
       "       -64.49965237, -37.38160106, -78.57229477, -62.26014332,\n",
       "        77.23931188, -45.78888353,  55.28210756, -41.33445944,\n",
       "        27.66169896, -78.52058919,  85.84367881,  71.52958846,\n",
       "        10.29193645,  42.87651054, -54.95071835, -52.0777658 ,\n",
       "        60.34208946,  11.64495799, -34.94804932, -80.79022491,\n",
       "       -67.88822485,  24.16055551, -43.99565659,  24.60079561,\n",
       "       -80.18885206,  10.94405194])"
      ]
     },
     "execution_count": 7,
     "metadata": {},
     "output_type": "execute_result"
    }
   ],
   "source": [
    "np.random.uniform(-90, 90, size=50)"
   ]
  },
  {
   "cell_type": "code",
   "execution_count": 8,
   "id": "1e4895e0",
   "metadata": {},
   "outputs": [],
   "source": [
    "import timeit"
   ]
  },
  {
   "cell_type": "code",
   "execution_count": 9,
   "id": "3fde0c69",
   "metadata": {},
   "outputs": [
    {
     "name": "stdout",
     "output_type": "stream",
     "text": [
      "12.1 µs ± 4.96 ns per loop (mean ± std. dev. of 7 runs, 100000 loops each)\n"
     ]
    }
   ],
   "source": [
    "%timeit np.random.uniform(-90.000, 90.000, size=1500)"
   ]
  },
  {
   "cell_type": "code",
   "execution_count": 10,
   "id": "cb2ff0f6",
   "metadata": {},
   "outputs": [
    {
     "name": "stdout",
     "output_type": "stream",
     "text": [
      "1.11 ms ± 17.8 µs per loop (mean ± std. dev. of 7 runs, 1000 loops each)\n"
     ]
    }
   ],
   "source": [
    "def latitudes(size):\n",
    "    latitudes = []\n",
    "    x = 0\n",
    "    while x < (size):\n",
    "        random_lat = random.randint(-90, 90) + random.random()\n",
    "        latitudes.append(random_lat)\n",
    "        x += 1\n",
    "    return latitudes\n",
    "# Call the function with 1500.\n",
    "%timeit latitudes(1500)"
   ]
  },
  {
   "cell_type": "code",
   "execution_count": 1,
   "id": "14890508",
   "metadata": {},
   "outputs": [
    {
     "ename": "ModuleNotFoundError",
     "evalue": "No module named 'citipy'",
     "output_type": "error",
     "traceback": [
      "\u001b[0;31m---------------------------------------------------------------------------\u001b[0m",
      "\u001b[0;31mModuleNotFoundError\u001b[0m                       Traceback (most recent call last)",
      "\u001b[0;32m/var/folders/zv/yt8ht1rx5b53km5qqd7ntj_80000gn/T/ipykernel_86502/2923840121.py\u001b[0m in \u001b[0;36m<module>\u001b[0;34m\u001b[0m\n\u001b[0;32m----> 1\u001b[0;31m \u001b[0;32mimport\u001b[0m \u001b[0mcitipy\u001b[0m\u001b[0;34m\u001b[0m\u001b[0;34m\u001b[0m\u001b[0m\n\u001b[0m",
      "\u001b[0;31mModuleNotFoundError\u001b[0m: No module named 'citipy'"
     ]
    }
   ],
   "source": [
    "import citipy"
   ]
  },
  {
   "cell_type": "code",
   "execution_count": null,
   "id": "3a694ea8",
   "metadata": {},
   "outputs": [],
   "source": []
  }
 ],
 "metadata": {
  "kernelspec": {
   "display_name": "PythonData",
   "language": "python",
   "name": "pythondata"
  },
  "language_info": {
   "codemirror_mode": {
    "name": "ipython",
    "version": 3
   },
   "file_extension": ".py",
   "mimetype": "text/x-python",
   "name": "python",
   "nbconvert_exporter": "python",
   "pygments_lexer": "ipython3",
   "version": "3.9.7"
  }
 },
 "nbformat": 4,
 "nbformat_minor": 5
}
